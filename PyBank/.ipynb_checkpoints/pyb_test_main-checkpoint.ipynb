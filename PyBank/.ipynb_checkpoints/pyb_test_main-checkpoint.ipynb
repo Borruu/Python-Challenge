{
 "cells": [
  {
   "cell_type": "code",
   "execution_count": 1,
   "id": "36f4a8d6",
   "metadata": {},
   "outputs": [
    {
     "name": "stdout",
     "output_type": "stream",
     "text": [
      "Total months: 86\n",
      "Total: $22564198\n",
      "Average change: $-8311.11\n",
      "Greatest increase in profits: Aug-16 ($1862002)\n",
      "Greatest decrease in profits: Feb-14 ($-1825558)\n"
     ]
    }
   ],
   "source": [
    "from calendar import month\n",
    "import os\n",
    "import csv\n",
    "file = 'Resources/budget_data.csv'\n",
    "\n",
    "count = 0\n",
    "net = 0\n",
    "current_value = 0\n",
    "previous_value = 0\n",
    "change_occurred = 0\n",
    "change = []\n",
    "avg = 0.00\n",
    "inc = 0\n",
    "inc_month = \"month\"\n",
    "dcr = 0\n",
    "dcr_month = \"month\"\n",
    "\n",
    "with open(file, \"r\", encoding=\"utf\") as budget:\n",
    "    rb = csv.reader(budget, delimiter=\",\")\n",
    "    header = next(budget)\n",
    "\n",
    "    for row in rb:\n",
    "        count = count + 1\n",
    "        current_value = int(row[1])\n",
    "        net = (net + current_value)\n",
    "        change_occurred = (current_value - int(previous_value))\n",
    "        change.append(change_occurred)\n",
    "        if change_occurred > inc:\n",
    "            inc = change_occurred\n",
    "            inc_month = row[0]\n",
    "        if change_occurred < dcr:\n",
    "            dcr = change_occurred\n",
    "            dcr_month = row[0]\n",
    "        previous_value = row[1]\n",
    "\n",
    "change.pop(0)\n",
    "\n",
    "\n",
    "def average(numbers):\n",
    "    length = len(numbers)\n",
    "    total = 0.0\n",
    "    for number in numbers:\n",
    "        total += number\n",
    "    return total/length\n",
    "\n",
    "\n",
    "avg = average(change)\n",
    "avg = round(avg, 2)\n",
    "\n",
    "print(f\"Total months: {count}\")\n",
    "print(f\"Total: ${net}\")\n",
    "print(f\"Average change: ${avg}\")\n",
    "print(f\"Greatest increase in profits: {inc_month} (${inc})\")\n",
    "print(f\"Greatest decrease in profits: {dcr_month} (${dcr})\")\n",
    "\n",
    "lines = [(f\"Total months: {count}\"), (f\"Total: ${net}\"), (f\"Average change: ${avg}\"), (f\"Greatest increase in profits: {inc_month} (${inc})\"),\n",
    "         (f\"Greatest decrease in profits: {dcr_month} (${dcr})\")]\n",
    "# os.chdir(r'C:\\Users\\30798\\Desktop\\Python\\Module_03_Python2\\Python-Challenge\\PyBank\\analysis')\n",
    "file_a = 'analysis/Analysis.txt'\n",
    "with open(file_a, 'w') as a:\n",
    "    for line in lines:\n",
    "        a.write(line)\n",
    "        a.write('\\n')\n"
   ]
  },
  {
   "cell_type": "code",
   "execution_count": null,
   "id": "3341b327",
   "metadata": {},
   "outputs": [],
   "source": []
  }
 ],
 "metadata": {
  "kernelspec": {
   "display_name": "Python [conda env:PythonData] *",
   "language": "python",
   "name": "conda-env-PythonData-py"
  },
  "language_info": {
   "codemirror_mode": {
    "name": "ipython",
    "version": 3
   },
   "file_extension": ".py",
   "mimetype": "text/x-python",
   "name": "python",
   "nbconvert_exporter": "python",
   "pygments_lexer": "ipython3",
   "version": "3.7.7"
  }
 },
 "nbformat": 4,
 "nbformat_minor": 5
}
