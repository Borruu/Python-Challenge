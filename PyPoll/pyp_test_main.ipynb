{
 "cells": [
  {
   "cell_type": "code",
   "execution_count": 1,
   "id": "a673e18d",
   "metadata": {},
   "outputs": [
    {
     "name": "stdout",
     "output_type": "stream",
     "text": [
      "Election Results\n",
      "-------------------------\n",
      "Total Votes: 369711\n",
      "-------------------------\n",
      "Charles Casper Stockham: 23.049% (85213)\n",
      "Diana DeGette: 73.812% (272892)\n",
      "Raymon Anthony Doane: 3.139% (11606)\n",
      "-------------------------\n",
      "Winner: Diana DeGette\n"
     ]
    }
   ],
   "source": [
    "import os\n",
    "import csv\n",
    "# os.chdir(r'C:\\Users\\30798\\Desktop\\Python\\Module_03_Python2\\Python-Challenge\\PyPoll\\Resources')\n",
    "path = 'Resources/election_data.csv'\n",
    "total = 0\n",
    "list_cand = []\n",
    "tally = []\n",
    "per = []\n",
    "\n",
    "with open(path, \"r\") as file:\n",
    "    ed = csv.reader(file, delimiter=\",\")\n",
    "    next(ed, None)\n",
    "    for row in ed:\n",
    "        if row[2] not in list_cand:\n",
    "            list_cand.append(row[2])\n",
    "        total = int(total) + 1\n",
    "    for name in list_cand:\n",
    "        tally.append(0)\n",
    "with open(path, \"r\") as file:\n",
    "    eds = csv.reader(file, delimiter=\",\")\n",
    "    next(eds, None)\n",
    "    for row in eds:\n",
    "        for name in list_cand:\n",
    "            i = list_cand.index(name)\n",
    "            if row[2] == list_cand[i]:\n",
    "                tally[i] += 1\n",
    "for votes in tally:\n",
    "    ita = tally.index(votes)\n",
    "    value = tally[ita]/total*100\n",
    "    value = round(value, 3)\n",
    "    per.append(value)\n",
    "\n",
    "print(\"Election Results\")\n",
    "print(\"-------------------------\")\n",
    "print(f\"Total Votes: {total}\")\n",
    "print(\"-------------------------\")\n",
    "\n",
    "a = 0\n",
    "max = 0\n",
    "for n in per:\n",
    "    if n > max:\n",
    "        a = per.index(n)\n",
    "        max = n\n",
    "winner = list_cand[a]\n",
    "\n",
    "lines = [(\"Election Results\"), (\"-------------------------\"),\n",
    "         (f\"Total Votes: {total}\"), (\"-------------------------\")]\n",
    "\n",
    "for name in list_cand:\n",
    "    j = list_cand.index(name)\n",
    "    print(f\"{list_cand[j]}: {per[j]}% ({tally[j]})\")\n",
    "    lines.append((f\"{list_cand[j]}: {per[j]}% ({tally[j]})\"))\n",
    "\n",
    "lines.append((\"-------------------------\"))\n",
    "lines.append((f\"Winner: {winner}\"))\n",
    "lines.append((\"-------------------------\"))\n",
    "\n",
    "print(\"-------------------------\")\n",
    "print(f\"Winner: {winner}\")\n",
    "\n",
    "# os.chdir(r'C:\\Users\\30798\\Desktop\\Python\\Module_03_Python2\\Python-Challenge\\PyPoll\\analysis')\n",
    "path_a = 'analysis/Analysis.txt'\n",
    "with open(path_a, 'w') as b:\n",
    "    for line in lines:\n",
    "        b.write(line)\n",
    "        b.write('\\n')\n"
   ]
  },
  {
   "cell_type": "code",
   "execution_count": null,
   "id": "32a90d63",
   "metadata": {},
   "outputs": [],
   "source": []
  }
 ],
 "metadata": {
  "kernelspec": {
   "display_name": "Python [conda env:PythonData] *",
   "language": "python",
   "name": "conda-env-PythonData-py"
  },
  "language_info": {
   "codemirror_mode": {
    "name": "ipython",
    "version": 3
   },
   "file_extension": ".py",
   "mimetype": "text/x-python",
   "name": "python",
   "nbconvert_exporter": "python",
   "pygments_lexer": "ipython3",
   "version": "3.7.7"
  }
 },
 "nbformat": 4,
 "nbformat_minor": 5
}
